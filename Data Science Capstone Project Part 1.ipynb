{
 "cells": [
  {
   "cell_type": "markdown",
   "metadata": {},
   "source": [
    "#  **Capstone: Battle of the Neighbourhoods**"
   ]
  },
  {
   "cell_type": "markdown",
   "metadata": {},
   "source": [
    "### Segmenting and Clustering Calgary Neighbourhoods Based on Current Real Estate and Location Information"
   ]
  },
  {
   "cell_type": "markdown",
   "metadata": {},
   "source": [
    "Completed to fulfill requirements for the IBM Data Science Professional Certificate"
   ]
  },
  {
   "cell_type": "markdown",
   "metadata": {},
   "source": [
    "### **Introduction**"
   ]
  },
  {
   "cell_type": "markdown",
   "metadata": {},
   "source": [
    "Finding the perfect home can be a challenge as there are many different factors to consider when purchasing a home. This project aims to help buyers find their ideal neighbourhoods based on real estate data such as type of house and price as well as using neighbourhood location data to evaluate what kind of venues are close by.\n",
    "\n",
    "The area of focus for this project will be in Calgary, AB although the methodology will be applicable to any city.\n",
    "\n",
    "Data science will be implemented to segment and cluster neighbourhoods using information obtained from the real estate website realtor.ca and location information retrieved using four square. These clusters will be used to identify different types of buyers and the neighbourhoods best suited for their purposes."
   ]
  },
  {
   "cell_type": "markdown",
   "metadata": {},
   "source": [
    "### **Data**"
   ]
  },
  {
   "cell_type": "markdown",
   "metadata": {},
   "source": [
    "In order to investigate this problem the following data will be needed:\n",
    "1. Real estate data such as price, house type, size, etc\n",
    "2. Calgary Neighbourhood list and coordinates\n",
    "3. Neighbourhood venue information    \n",
    "\n",
    "This data will be retrieved respectively using the following:\n",
    "1. Real Estate data will be scraped from a real estate website using the real estate API \n",
    "2. Calgary Neighbourhoods will be manually saved from wikipedia into a CSV and then loaded in as a dataframe\n",
    "3. Neighbourhood venue information will be retrieved using Four Square API\n",
    "\n",
    "The goal is to organize and store this data into one master dataframe that then can be used in the analysis of the data."
   ]
  },
  {
   "cell_type": "code",
   "execution_count": null,
   "metadata": {},
   "outputs": [],
   "source": []
  }
 ],
 "metadata": {
  "kernelspec": {
   "display_name": "Python",
   "language": "python",
   "name": "conda-env-python-py"
  },
  "language_info": {
   "codemirror_mode": {
    "name": "ipython",
    "version": 3
   },
   "file_extension": ".py",
   "mimetype": "text/x-python",
   "name": "python",
   "nbconvert_exporter": "python",
   "pygments_lexer": "ipython3",
   "version": "3.6.10"
  }
 },
 "nbformat": 4,
 "nbformat_minor": 4
}
